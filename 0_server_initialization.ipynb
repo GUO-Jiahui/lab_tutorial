{
 "cells": [
  {
   "cell_type": "markdown",
   "metadata": {},
   "source": [
    "### Set Up the Enviroment"
   ]
  },
  {
   "cell_type": "markdown",
   "metadata": {},
   "source": [
    "**The following steps will help you set up the enviroment for your analysis after you get access to a server.**\n",
    "\n",
    "_Written by Jiahui Guo_"
   ]
  },
  {
   "cell_type": "markdown",
   "metadata": {},
   "source": [
    "### **1. Install Miniconda**\n",
    "\n",
    "##### a. Follow the Steps Below\n",
    "---\n",
    "1. `mkdir -p ~/miniconda3`\n",
    "\n",
    "2. `wget https://repo.anaconda.com/miniconda/Miniconda3-latest-Linux-x86_64.sh -O ~/miniconda3/miniconda.sh`\n",
    "\n",
    "3. `bash ~/miniconda3/miniconda.sh -b -u -p ~/miniconda3`\n",
    "\n",
    "4. `rm -rf ~/miniconda3/miniconda.sh`\n",
    "---\n",
    "#### b. (Optional, Recommended) Add to .bashrc file\n",
    "You may need to run `source ~/miniconda3/etc/profile.d/conda.sh` everytime when you need the environment if you don't complete this step.\n",
    "\n",
    "You can Goolge/Ask ChatGPT how to add it to your .bashrc file, following are example steps.\n",
    "1. `source ~/miniconda3/etc/profile.d/conda.sh`\n",
    "\n",
    "2. `conda init bash`\n",
    "\n",
    "3. `vim ~/.bashrc (just read the contents)`\n",
    "\n",
    "4. `source ~/.bashrc`\n",
    "---"
   ]
  },
  {
   "cell_type": "markdown",
   "metadata": {},
   "source": [
    "### **2. Install Environment from .yml file**\n",
    "    name: tc\n",
    "    channels:\n",
    "      - conda-forge\n",
    "      - pytorch\n",
    "    dependencies:\n",
    "      - python>=3.9\n",
    "      - numpy\n",
    "      - scipy\n",
    "      - scikit-learn\n",
    "      - nibabel\n",
    "      - pandas\n",
    "      - matplotlib\n",
    "      - seaborn\n",
    "      - ipython\n",
    "      - jupyter\n",
    "      - opencv\n",
    "      - vtk\n",
    "      - pytorch\n",
    "      - torchvision\n",
    "      - torchaudio\n",
    "      - cpuonly\n",
    "      - pip\n",
    "      - pip:\n",
    "        - nipy\n",
    "\n",
    "---    \n",
    "- Save the content above to a .yml file (e.g., tc.yml) in your home folder\n",
    "- `conda env create -f tc.yml`  Use this to install the environment\n",
    "---\n"
   ]
  },
  {
   "cell_type": "markdown",
   "metadata": {},
   "source": [
    "### **3. Install Other Packages**\n",
    "1. Enter the conda environment: `conda activate tc`\n",
    "\n",
    "2. In the environment, install jupyter lab and hyperalignment:\n",
    "`pip install -U jupyterlab hyperalignment`\n",
    "\n",
    "3. Install neuroboros package from Github: `pip install -U git+https://github.com/neuroboros/neuroboros.git`\n"
   ]
  },
  {
   "cell_type": "markdown",
   "metadata": {},
   "source": [
    "---\n",
    "#####\n",
    "**Congrats!** You have completed the basic set up steps!\n",
    "\n",
    "Use `conda activate tc` to activate the enviroment; use `conda deactivate` to deactivate the enviroment.\n",
    "#####\n",
    "---"
   ]
  },
  {
   "cell_type": "markdown",
   "metadata": {},
   "source": [
    "### **4. Setting up Visual Studio Code (Optional, Highly Recommended)**\n",
    "**Once set up, you can use VSCode to write your scripts as if you were using it locally.**\n",
    "\n",
    "**1. Install the Remote - SSH extension** \n",
    "\n",
    "Open VSCode, click on the Extensions view icon in the sidebar (or press `Ctrl+Shift+X`), search for \"`Remote - SSH`\" and click the Install button.\n",
    "\n",
    "**2. Setting up rsa keys**\n",
    "\n",
    "- `ssh-keygen -t rsa -b 4096` (don't need to specify specific configurations)\n",
    "\n",
    "- Copy SSH Key to Remote Machine: `ssh-copy-id youraccountname@servername` (e.g., JGuo@bhpfc.utdallas.edu)\n",
    "\n",
    "**3. Set up the configuration** \n",
    "\n",
    "Open _~/.ssh/config_, add\n",
    "\n",
    "```\n",
    "Host remote-machine \n",
    "    HostName remote_host \n",
    "    User user \n",
    "    IdentityFile ~/.ssh/id_rsa \n",
    "    \n",
    "Replace remote-machine with a friendly name for your remote machine, remote_host with its IP address or hostname, and user with your username on the remote machine.\n",
    "\n",
    "E.g.,\n",
    "\n",
    "Host bhpfc\n",
    "    HostName bhpfc.utdallas.edu\n",
    "    User JGuo\n",
    "    IdentityFile ~/.ssh/id_rsa\n",
    "```\n",
    "\n",
    "- After setup, you can just ssh bhpfc, and no password will be needed.\n",
    "\n",
    "**4. Connect to the remote machine** \n",
    "\n",
    "Open the Command Palette in VSCode with `Ctrl+Shift+P` (or `Cmd+Shift+P` on macOS), type \"`Remote-SSH`\" and select \"`Remote-SSH: Connect to Host`\". Enter the SSH connection string in the format `user@hostname`, for example: `john@192.168.1.100`. (You can also specify the port number with the -p flag if necessary, e.g., `john@192.168.1.100 -p 2222`). E.g., you can just select bhpfc, sometimes maybe need to type in the password.\n",
    "\n",
    "**5. Install the Python extension**\n",
    "\n",
    "In the Extensions view, search for \"Python\" and click the Install button for the \"Python\" extension by Microsoft. This extension will provide syntax highlighting, code completion, debugging, and other features for Python development.\n",
    "\n",
    "**6. Open the remote workspace** \n",
    "\n",
    "Once connected, you can open a remote folder in VSCode by clicking on \"`Open Folder`\" in the Remote Explorer, or by using the Command Palette and selecting \"`Remote-SSH: Open Folder`\". Navigate to the folder containing your Python code and click \"`OK`\"."
   ]
  },
  {
   "cell_type": "markdown",
   "metadata": {},
   "source": []
  }
 ],
 "metadata": {
  "language_info": {
   "name": "python"
  }
 },
 "nbformat": 4,
 "nbformat_minor": 2
}
