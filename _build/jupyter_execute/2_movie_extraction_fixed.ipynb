{
 "cells": [
  {
   "cell_type": "markdown",
   "metadata": {},
   "source": [
    "# Movie Extraction Tutorial\n",
    "\n",
    "_Written by Ian Abenes_\n",
    "\n",
    "## Introduction\n",
    "\n",
    "This notebook is a tutorial for extracting movies using MakeMKV and Handbrake. This tutorial is split into two major sections; the first section will be for extracting files from DVDs using MakeMKV, and the second section will be for converting those files into .mp4s using Handbrake. The first section is also split into two sections, one section for dealing with ISOs and the other for dealing with BDMVs. \n",
    "\n",
    "This tutorial was created using HandBrake-1.8.2 and MakeMKV-1.17.7 on MacOS, however these instructions should work on the Windows releases of these software. "
   ]
  },
  {
   "cell_type": "markdown",
   "metadata": {},
   "source": [
    "### MakeMKV"
   ]
  },
  {
   "cell_type": "markdown",
   "metadata": {},
   "source": [
    "#### Step 0 - MakeMKV - opening MakeMKV\n",
    "\n",
    "After opening MakeMKV you should see the following GUI.\n",
    "![alt text](img_movie_extraction/makemkv step 0.png)"
   ]
  },
  {
   "cell_type": "markdown",
   "metadata": {},
   "source": [
    "#### Step 1 - MakeMKV - begin extraction\n",
    "Insert the DVD into the optical reader (depending on your system, the movie may autoplay). The GUI should update to indicate that a DVD has been detected.\n",
    "\n",
    "Select the \"download folder\" icon to begin extracting the data from the DVD.\n",
    "![alt text](img_movie_extraction/makemkv step 1.png)"
   ]
  },
  {
   "cell_type": "markdown",
   "metadata": {},
   "source": [
    "#### Step 2 - MakeMKV - choose save directory\n",
    "You will be prompted with a save location for the extracted files.\n",
    "\n",
    "If you are doing this on your personal machine, make sure to keep note of where you extract DVDs, as you will need this location later.\n",
    "![alt text](img_movie_extraction/makemkv step 2.png)\n",
    "\n",
    "If you are doing this on the lab Mac, we have a folder workflow:\n",
    "\n",
    "coconeurolab > Desktop > movies > \"name of movie\" > ...\n",
    "![alt text](img_movie_extraction/makemkv step 4.png)\n",
    "![alt text](img_movie_extraction/makemkv step 5.png)"
   ]
  },
  {
   "cell_type": "markdown",
   "metadata": {},
   "source": [
    "#### Step 3.1.1 - MakeMKV - ISO files\n",
    "\n",
    "After extraction, there should be an iso file in the directory you specified in the previous step. In this step, we will load the iso file into MakeMKV. To do so, select the \"open files\" icon.\n",
    "![alt text](img_movie_extraction/makemkv step 8.png)\n",
    "\n",
    "Then, select the iso file that you just created.\n",
    "![alt text](img_movie_extraction/makemkv step 9.png)"
   ]
  },
  {
   "cell_type": "markdown",
   "metadata": {},
   "source": [
    "#### Step 3.1.2 - MakeMKV - Converting ISO to MKV\n",
    "After opening the iso, the GUI should update to the following screen. Click the \"Make MKV\" icon to begin converting the iso into an .mkv file.\n",
    "![alt text](img_movie_extraction/makemkv step 10.png)"
   ]
  },
  {
   "cell_type": "markdown",
   "metadata": {},
   "source": [
    "#### Step 3.1.3 - MakeMKV - Finished!\n",
    "After this is complete, you should see the following:\n",
    "![alt text](img_movie_extraction/makemkv step 12.png)\n",
    "\n",
    "This .mkv file will be used in Handbrake, so make sure to keep track of where it was saved."
   ]
  },
  {
   "cell_type": "markdown",
   "metadata": {},
   "source": [
    "#### Step 3.2.1 - MakeMKV - BDMV files\n",
    "Older DVDs will tend to be saved as ISO files, while newer DVDs/Blurays will be in the BDMV format. After extracting the DVD in Step 1 and 2, you may see a BDMV library in your extract directory.\n",
    "![alt text](img/makemkv step 13.png)\n",
    "\n",
    "Select the BDMV file. \n"
   ]
  },
  {
   "cell_type": "markdown",
   "metadata": {},
   "source": [
    "#### Step 3.2.2 - MakeMKV - Converting BDMV to MKV\n",
    "After selecting the BDMV file, you should see a list of titles on the left pane. Before converting to .mkv, be sure to select the title with the largest file size (this is almost always the movie itself).\n",
    "![alt text](img_movie_extraction/makemkv step 14.png)"
   ]
  },
  {
   "cell_type": "markdown",
   "metadata": {},
   "source": [
    "#### Step 3.2.3 - MakeMKV - Finished!\n",
    "As in Step 3.1.3, you will be notified when conversion is finished. This file will be used in Handbrake, so make sure to keep track of where it was saved."
   ]
  },
  {
   "cell_type": "markdown",
   "metadata": {},
   "source": [
    "### HandBrake"
   ]
  },
  {
   "cell_type": "markdown",
   "metadata": {},
   "source": [
    "#### Step 4 - HandBrake - opening source files\n",
    "Next, open up Handbrake. You should see a GUI similar to the one below. Select the \"Open Source\" icon.\n",
    "![alt text](img_movie_extraction/handbrake step 0.png)"
   ]
  },
  {
   "cell_type": "markdown",
   "metadata": {},
   "source": [
    "#### Step 5 - HandBrake - loading .mkv files\n",
    "Go to the directory in which your .mkv files were created, and select the .mkv file.\n",
    "![alt text](img_movie_extraction/handbrake step 1.png)"
   ]
  },
  {
   "cell_type": "markdown",
   "metadata": {},
   "source": [
    "#### Step 6 - HandBrake - setup\n",
    "After loading the .mkv file, the GUI should update with the file information. \n",
    "\n",
    "We will be using the \"Fast 1080p30\" preset for conversion. \n",
    "\n",
    "Make sure to change the output filename and output directory at the bottom of the GUI.\n",
    "\n",
    "If working on the lab Mac, the output directory should be:\n",
    "\n",
    "coconeurolab > Desktop > Movies after conversion\n",
    "![alt text](img_movie_extraction/handbrake step 2.png)\n",
    "![alt text](img_movie_extraction/handbrake step 3.png)\n"
   ]
  },
  {
   "cell_type": "markdown",
   "metadata": {},
   "source": [
    "#### Step 7 - HandBrake - convert to .mp4\n",
    "\n",
    "After everything is set up, click the \"Start\" icon to begin conversion.\n",
    "![alt text](img_movie_extraction/handbrake step 4.png)"
   ]
  },
  {
   "cell_type": "markdown",
   "metadata": {},
   "source": [
    "#### Step 8 - HandBrake - Finished!\n",
    "That's it! The DVD data should be successfully extracted and converted into an .mp4. You can double-check by opening up the .mp4 file in your media player of choice."
   ]
  }
 ],
 "metadata": {
  "kernelspec": {
   "display_name": "base",
   "language": "python",
   "name": "python3"
  },
  "language_info": {
   "codemirror_mode": {
    "name": "ipython",
    "version": 3
   },
   "file_extension": ".py",
   "mimetype": "text/x-python",
   "name": "python",
   "nbconvert_exporter": "python",
   "pygments_lexer": "ipython3",
   "version": "3.12.3"
  }
 },
 "nbformat": 4,
 "nbformat_minor": 2
}