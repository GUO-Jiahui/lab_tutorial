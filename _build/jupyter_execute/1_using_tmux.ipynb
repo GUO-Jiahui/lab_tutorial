{
 "cells": [
  {
   "cell_type": "markdown",
   "metadata": {},
   "source": [
    "### Using Tmux"
   ]
  },
  {
   "cell_type": "markdown",
   "metadata": {},
   "source": [
    "**The following steps will help you use tmux on the server.**\n",
    "\n",
    "_Written by Jiahui Guo_"
   ]
  },
  {
   "cell_type": "markdown",
   "metadata": {},
   "source": [
    "### **1. What is tmux?**\n",
    "\n",
    "<span style=\"font-size:18px;\">Tmux is a terminal multiplexer, which allows you to switch easily between several programs in one terminal, detach them (they keep running in the background) and reattach them to a different terminal. With this, you can safely log out of the server and shut down your laptop while your script is still running on the server!</span>"
   ]
  },
  {
   "cell_type": "markdown",
   "metadata": {},
   "source": [
    "### **2. Using tmux**\n",
    "Tmux is often pre-installed by the administrator of the server, so you can directly start to use it.\n",
    "\n",
    "- `tmux` \\\n",
    "  Create a new session.\n",
    "\n",
    "- `tmux ls` \\\n",
    "  Show all sessions.\n",
    "\n",
    "- `tmux a -t mysession` \\\n",
    "  Attach to a session with its name. The name can be 0, 1 etc., based on the results you see with the last command.\n",
    "\n",
    "- `Ctrl+b d` \\\n",
    "  Detach from the current session.\n",
    "\n",
    "- `Ctrl+b c` \\\n",
    "  Create a new window in the current session.\n",
    "\n",
    "- `Ctrl+b mysession_number` \\\n",
    "  Switch windown within the current session by number. So the command can be `Ctrl+b 0`, `Ctrl+b 1` etc.\n",
    "\n",
    "- `Ctrl+b %` \\\n",
    "  Split the current window with a vertical line to creat horizontal layout.\n",
    "\n",
    "- `Ctrl+b \"` \\\n",
    "  Split the curren window with a horizontal line to create a vertical layout.\n",
    "\n",
    "- `Ctrl+b up/down/left/right` \\\n",
    "  Move cursor to the up/down/left/right panel. Use the arrow key.\n",
    "\n",
    "<br />\n",
    "  \n",
    "---\n",
    "###\n",
    "Commands above are basic ones. This link will take you to more useful commands: https://tmuxcheatsheet.com/\n",
    "###\n",
    "---"
   ]
  },
  {
   "cell_type": "markdown",
   "metadata": {},
   "source": []
  }
 ],
 "metadata": {
  "language_info": {
   "codemirror_mode": {
    "name": "ipython",
    "version": 3
   },
   "file_extension": ".py",
   "mimetype": "text/x-python",
   "name": "python",
   "nbconvert_exporter": "python",
   "pygments_lexer": "ipython3",
   "version": "3.12.3"
  }
 },
 "nbformat": 4,
 "nbformat_minor": 2
}